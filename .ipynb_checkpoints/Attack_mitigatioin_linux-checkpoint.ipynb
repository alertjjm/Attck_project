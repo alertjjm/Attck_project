{
 "cells": [
  {
   "cell_type": "code",
   "execution_count": 1,
   "metadata": {},
   "outputs": [],
   "source": [
    "import pandas as pd\n",
    "import numpy as np\n",
    "import json"
   ]
  },
  {
   "cell_type": "code",
   "execution_count": 2,
   "metadata": {},
   "outputs": [],
   "source": [
    "f=open(\"result_linux.json\",'r')\n",
    "jsondata=json.load(f)\n",
    "f.close()"
   ]
  },
  {
   "cell_type": "code",
   "execution_count": 3,
   "metadata": {},
   "outputs": [],
   "source": [
    "df=pd.DataFrame(jsondata,index=['count','mitigation'])\n",
    "df=df.T"
   ]
  },
  {
   "cell_type": "code",
   "execution_count": 4,
   "metadata": {},
   "outputs": [
    {
     "data": {
      "text/html": [
       "<div>\n",
       "<style scoped>\n",
       "    .dataframe tbody tr th:only-of-type {\n",
       "        vertical-align: middle;\n",
       "    }\n",
       "\n",
       "    .dataframe tbody tr th {\n",
       "        vertical-align: top;\n",
       "    }\n",
       "\n",
       "    .dataframe thead th {\n",
       "        text-align: right;\n",
       "    }\n",
       "</style>\n",
       "<table border=\"1\" class=\"dataframe\">\n",
       "  <thead>\n",
       "    <tr style=\"text-align: right;\">\n",
       "      <th></th>\n",
       "      <th>count</th>\n",
       "      <th>mitigation</th>\n",
       "    </tr>\n",
       "  </thead>\n",
       "  <tbody>\n",
       "    <tr>\n",
       "      <th>T1003</th>\n",
       "      <td>36</td>\n",
       "      <td>[Active Directory Configuration: Manage the ac...</td>\n",
       "    </tr>\n",
       "    <tr>\n",
       "      <th>T1001</th>\n",
       "      <td>2</td>\n",
       "      <td>[Network Intrusion Prevention: Network intrusi...</td>\n",
       "    </tr>\n",
       "    <tr>\n",
       "      <th>T1190</th>\n",
       "      <td>3</td>\n",
       "      <td>[Application Isolation and Sandboxing: Applica...</td>\n",
       "    </tr>\n",
       "    <tr>\n",
       "      <th>T1087</th>\n",
       "      <td>12</td>\n",
       "      <td>[Operating System Configuration: Prevent admin...</td>\n",
       "    </tr>\n",
       "    <tr>\n",
       "      <th>T1059</th>\n",
       "      <td>32</td>\n",
       "      <td>[Execution Prevention: Audit and/or block unne...</td>\n",
       "    </tr>\n",
       "  </tbody>\n",
       "</table>\n",
       "</div>"
      ],
      "text/plain": [
       "      count                                         mitigation\n",
       "T1003    36  [Active Directory Configuration: Manage the ac...\n",
       "T1001     2  [Network Intrusion Prevention: Network intrusi...\n",
       "T1190     3  [Application Isolation and Sandboxing: Applica...\n",
       "T1087    12  [Operating System Configuration: Prevent admin...\n",
       "T1059    32  [Execution Prevention: Audit and/or block unne..."
      ]
     },
     "execution_count": 4,
     "metadata": {},
     "output_type": "execute_result"
    }
   ],
   "source": [
    "df.head()"
   ]
  },
  {
   "cell_type": "code",
   "execution_count": 5,
   "metadata": {},
   "outputs": [],
   "source": [
    "for i in jsondata.keys():\n",
    "    jsondata[i]['mitigation']=\"\\n\\n\\n\".join(jsondata[i]['mitigation'])"
   ]
  },
  {
   "cell_type": "code",
   "execution_count": 6,
   "metadata": {},
   "outputs": [],
   "source": [
    "df2=pd.DataFrame(jsondata.values(),columns=['count','mitigation'])"
   ]
  },
  {
   "cell_type": "code",
   "execution_count": 7,
   "metadata": {},
   "outputs": [
    {
     "data": {
      "text/html": [
       "<div>\n",
       "<style scoped>\n",
       "    .dataframe tbody tr th:only-of-type {\n",
       "        vertical-align: middle;\n",
       "    }\n",
       "\n",
       "    .dataframe tbody tr th {\n",
       "        vertical-align: top;\n",
       "    }\n",
       "\n",
       "    .dataframe thead th {\n",
       "        text-align: right;\n",
       "    }\n",
       "</style>\n",
       "<table border=\"1\" class=\"dataframe\">\n",
       "  <thead>\n",
       "    <tr style=\"text-align: right;\">\n",
       "      <th></th>\n",
       "      <th>count</th>\n",
       "      <th>mitigation</th>\n",
       "    </tr>\n",
       "  </thead>\n",
       "  <tbody>\n",
       "    <tr>\n",
       "      <th>0</th>\n",
       "      <td>36</td>\n",
       "      <td>Active Directory Configuration: Manage the acc...</td>\n",
       "    </tr>\n",
       "    <tr>\n",
       "      <th>1</th>\n",
       "      <td>2</td>\n",
       "      <td>Network Intrusion Prevention: Network intrusio...</td>\n",
       "    </tr>\n",
       "    <tr>\n",
       "      <th>2</th>\n",
       "      <td>3</td>\n",
       "      <td>Application Isolation and Sandboxing: Applicat...</td>\n",
       "    </tr>\n",
       "    <tr>\n",
       "      <th>3</th>\n",
       "      <td>12</td>\n",
       "      <td>Operating System Configuration: Prevent admini...</td>\n",
       "    </tr>\n",
       "    <tr>\n",
       "      <th>4</th>\n",
       "      <td>32</td>\n",
       "      <td>Execution Prevention: Audit and/or block unnec...</td>\n",
       "    </tr>\n",
       "  </tbody>\n",
       "</table>\n",
       "</div>"
      ],
      "text/plain": [
       "   count                                         mitigation\n",
       "0     36  Active Directory Configuration: Manage the acc...\n",
       "1      2  Network Intrusion Prevention: Network intrusio...\n",
       "2      3  Application Isolation and Sandboxing: Applicat...\n",
       "3     12  Operating System Configuration: Prevent admini...\n",
       "4     32  Execution Prevention: Audit and/or block unnec..."
      ]
     },
     "execution_count": 7,
     "metadata": {},
     "output_type": "execute_result"
    }
   ],
   "source": [
    "df2.head()"
   ]
  },
  {
   "cell_type": "code",
   "execution_count": 8,
   "metadata": {},
   "outputs": [],
   "source": [
    "df3=pd.DataFrame()"
   ]
  },
  {
   "cell_type": "code",
   "execution_count": 9,
   "metadata": {},
   "outputs": [],
   "source": [
    "df3['id']=jsondata.keys()\n",
    "df3['count']=df2['count']\n",
    "df3['mitigation']=df2['mitigation']\n"
   ]
  },
  {
   "cell_type": "code",
   "execution_count": 10,
   "metadata": {},
   "outputs": [],
   "source": [
    "pd.set_option('display.max.colwidth',2000)"
   ]
  },
  {
   "cell_type": "code",
   "execution_count": 11,
   "metadata": {},
   "outputs": [],
   "source": [
    "from IPython.display import display, HTML\n",
    "\n",
    "def pretty_print(df):\n",
    "    return display( HTML( df.to_html().replace(\"\\\\n\",\"<br>\") ) )"
   ]
  },
  {
   "cell_type": "code",
   "execution_count": 12,
   "metadata": {},
   "outputs": [],
   "source": [
    "df3=df3.sort_values(by='count',ascending=False)"
   ]
  },
  {
   "cell_type": "code",
   "execution_count": 13,
   "metadata": {},
   "outputs": [
    {
     "data": {
      "text/html": [
       "<table border=\"1\" class=\"dataframe\">\n",
       "  <thead>\n",
       "    <tr style=\"text-align: right;\">\n",
       "      <th></th>\n",
       "      <th>id</th>\n",
       "      <th>count</th>\n",
       "      <th>mitigation</th>\n",
       "    </tr>\n",
       "  </thead>\n",
       "  <tbody>\n",
       "    <tr>\n",
       "      <th>9</th>\n",
       "      <td>T1064</td>\n",
       "      <td>41</td>\n",
       "      <td>Application Isolation and Sandboxing: Configure Office security settings enable Protected View, to execute within a sandbox environment, and to block macros through Group Policy. Other types of virtualization and application microsegmentation may also mitigate the impact of compromise.<br><br><br>Disable or Remove Feature or Program: Turn off unused features or restrict access to scripting engines such as VBScript or scriptable administration frameworks such as PowerShell.</td>\n",
       "    </tr>\n",
       "    <tr>\n",
       "      <th>13</th>\n",
       "      <td>T1204</td>\n",
       "      <td>37</td>\n",
       "      <td>Execution Prevention: Application whitelisting may be able to prevent the running of executables masquerading as other files.<br><br><br>Network Intrusion Prevention: If a link is being visited by a user, network intrusion prevention systems and systems designed to scan and remove malicious downloads can be used to block activity.<br><br><br>Restrict Web-Based Content: If a link is being visited by a user, block unknown or unused files in transit by default that should not be downloaded or by policy from suspicious sites as a best practice to prevent some vectors, such as .scr, .exe, .pif, .cpl, etc. Some download scanning devices can open and analyze compressed and encrypted formats, such as zip and rar that may be used to conceal malicious files in Obfuscated Files or Information.<br><br><br>User Training: Use user training as a way to bring awareness to common phishing and spearphishing techniques and how to raise suspicion for potentially malicious events.</td>\n",
       "    </tr>\n",
       "    <tr>\n",
       "      <th>12</th>\n",
       "      <td>T1193</td>\n",
       "      <td>37</td>\n",
       "      <td>Antivirus/Antimalware: Anti-virus can also automatically quarantine suspicious files.<br><br><br>Network Intrusion Prevention: Network intrusion prevention systems and systems designed to scan and remove malicious email attachments can be used to block activity.<br><br><br>Restrict Web-Based Content: Block unknown or unused attachments by default that should not be transmitted over email as a best practice to prevent some vectors, such as .scr, .exe, .pif, .cpl, etc. Some email scanning devices can open and analyze compressed and encrypted formats, such as zip and rar that may be used to conceal malicious attachments in Obfuscated Files or Information.<br><br><br>User Training: Users can be trained to identify social engineering techniques and spearphishing emails.</td>\n",
       "    </tr>\n",
       "    <tr>\n",
       "      <th>0</th>\n",
       "      <td>T1003</td>\n",
       "      <td>36</td>\n",
       "      <td>Active Directory Configuration: Manage the access control list for \"Replicating Directory Changes\" and other permissions associated with domain controller replication.[20][21]<br><br><br>Credential Access Protection: With Windows 10, Microsoft implemented new protections called Credential Guard to protect the LSA secrets that can be used to obtain credentials through forms of credential dumping. It is not configured by default and has hardware and firmware system requirements. It also does not protect against all forms of credential dumping.[18][19]<br><br><br>Operating System Configuration: Consider disabling or restricting NTLM.[23]<br><br><br>Password Policies: Ensure that local administrator accounts have complex, unique passwords across all systems on the network.<br><br><br>Privileged Account Management: Windows:Do not put user or admin domain accounts in the local administrator groups across systems unless they are tightly controlled, as this is often equivalent to having a local administrator account with the same password on all systems. Follow best practices for design and administration of an enterprise network to limit privileged account use across administrative tiers.<br><br><br>Privileged Process Integrity: On Windows 8.1 and Windows Server 2012 R2, enable Protected Process Light for LSA.[22]<br><br><br>User Training: Limit credential overlap across accounts and systems by training users and administrators not to use the same password for multiple accounts.</td>\n",
       "    </tr>\n",
       "    <tr>\n",
       "      <th>26</th>\n",
       "      <td>T1027</td>\n",
       "      <td>36</td>\n",
       "      <td>Antivirus/Antimalware: Consider utilizing the Antimalware Scan Interface (AMSI) on Windows 10 to analyze commands after being processed/interpreted.</td>\n",
       "    </tr>\n",
       "  </tbody>\n",
       "</table>"
      ],
      "text/plain": [
       "<IPython.core.display.HTML object>"
      ]
     },
     "metadata": {},
     "output_type": "display_data"
    }
   ],
   "source": [
    "pretty_print(df3.head())"
   ]
  },
  {
   "cell_type": "code",
   "execution_count": 26,
   "metadata": {},
   "outputs": [],
   "source": [
    "df=df.sort_values(by='count',ascending=False)"
   ]
  },
  {
   "cell_type": "code",
   "execution_count": 31,
   "metadata": {},
   "outputs": [
    {
     "data": {
      "text/html": [
       "<div>\n",
       "<style scoped>\n",
       "    .dataframe tbody tr th:only-of-type {\n",
       "        vertical-align: middle;\n",
       "    }\n",
       "\n",
       "    .dataframe tbody tr th {\n",
       "        vertical-align: top;\n",
       "    }\n",
       "\n",
       "    .dataframe thead th {\n",
       "        text-align: right;\n",
       "    }\n",
       "</style>\n",
       "<table border=\"1\" class=\"dataframe\">\n",
       "  <thead>\n",
       "    <tr style=\"text-align: right;\">\n",
       "      <th></th>\n",
       "      <th>count</th>\n",
       "      <th>mitigation</th>\n",
       "    </tr>\n",
       "  </thead>\n",
       "  <tbody>\n",
       "    <tr>\n",
       "      <th>T1119</th>\n",
       "      <td>7</td>\n",
       "      <td>[Encrypt Sensitive Information: Encryption and off-system storage of sensitive information may be one way to mitigate collection of files, but may not stop an adversary from acquiring the information if an intrusion persists over a long period of time and the adversary is able to discover and access the data through other means. Strong passwords should be used on certain encrypted documents that use them to prevent offline cracking through Brute Force techniques., Remote Data Storage: Encryption and off-system storage of sensitive information may be one way to mitigate collection of files, but may not stop an adversary from acquiring the information if an intrusion persists over a long period of time and the adversary is able to discover and access the data through other means.]</td>\n",
       "    </tr>\n",
       "    <tr>\n",
       "      <th>T1021</th>\n",
       "      <td>6</td>\n",
       "      <td>[Multi-factor Authentication: Use multi-factor authentication on remote service logons where possible., User Account Management: Limit the accounts that may use remote services. Limit the permissions for accounts that are at higher risk of compromise; for example, configure SSH so users can only run specific programs.]</td>\n",
       "    </tr>\n",
       "    <tr>\n",
       "      <th>T1048</th>\n",
       "      <td>6</td>\n",
       "      <td>[Filter Network Traffic: Enforce proxies and use dedicated servers for services such as DNS and only allow those systems to communicate over respective ports/protocols, instead of all systems within a network., Network Intrusion Prevention: Network intrusion detection and prevention systems that use network signatures to identify traffic for specific adversary command and control infrastructure and malware can be used to mitigate activity at the network level., Network Segmentation: Follow best practices for network firewall configurations to allow only necessary ports and traffic to enter and exit the network.[2]]</td>\n",
       "    </tr>\n",
       "    <tr>\n",
       "      <th>T1136</th>\n",
       "      <td>5</td>\n",
       "      <td>[Multi-factor Authentication: Use multi-factor authentication for user and privileged accounts., Network Segmentation: Configure access controls and firewalls to limit access to domain controllers and systems used to create and manage accounts., Operating System Configuration: Protect domain controllers by ensuring proper security configuration for critical servers., Privileged Account Management: Do not allow domain administrator accounts to be used for day-to-day operations that may expose them to potential adversaries on unprivileged systems.]</td>\n",
       "    </tr>\n",
       "    <tr>\n",
       "      <th>T1132</th>\n",
       "      <td>5</td>\n",
       "      <td>[Network Intrusion Prevention: Network intrusion detection and prevention systems that use network signatures to identify traffic for specific adversary malware can be used to mitigate activity at the network level. Signatures are often for unique indicators within protocols and may be based on the specific obfuscation technique used by a particular adversary or tool, and will likely be different across various malware families and versions. Adversaries will likely change tool C2 signatures over time or construct protocols in such a way as to avoid detection by common defensive tools.]</td>\n",
       "    </tr>\n",
       "    <tr>\n",
       "      <th>T1219</th>\n",
       "      <td>5</td>\n",
       "      <td>[Execution Prevention: Use application whitelisting to mitigate installation and use of unapproved software that can be used for remote access., Filter Network Traffic: Properly configure firewalls, application firewalls, and proxies to limit outgoing traffic to sites and services used by remote access tools., Network Intrusion Prevention: Network intrusion detection and prevention systems that use network signatures may be able to prevent traffic to remote access services.]</td>\n",
       "    </tr>\n",
       "    <tr>\n",
       "      <th>T1094</th>\n",
       "      <td>4</td>\n",
       "      <td>[Filter Network Traffic: Filter network traffic to look for unusual or non-standard protocols., Network Intrusion Prevention: Network intrusion detection and prevention systems that use network signatures to identify traffic for specific adversary malware can be used to mitigate activity at the network level. Signatures are often for unique indicators within protocols and may be based on the specific protocol used by a particular adversary or tool, and will likely be different across various malware families and versions. Adversaries will likely change tool C2 signatures over time or construct protocols in such a way as to avoid detection by common defensive tools.[1], Network Segmentation: Properly configure firewalls and proxies to limit outgoing traffic to only necessary ports and through proper network gateway systems. Also ensure hosts are only provisioned to communicate over authorized interfaces.]</td>\n",
       "    </tr>\n",
       "    <tr>\n",
       "      <th>T1194</th>\n",
       "      <td>4</td>\n",
       "      <td>[Antivirus/Antimalware: Anti-virus can also automatically quarantine suspicious files., Restrict Web-Based Content: Determine if certain social media sites, personal webmail services, or other service that can be used for spearphishing is necessary for business operations and consider blocking access if activity cannot be monitored well or if it poses a significant risk., User Training: Users can be trained to identify social engineering techniques and spearphishing emails with malicious links.]</td>\n",
       "    </tr>\n",
       "    <tr>\n",
       "      <th>T1503</th>\n",
       "      <td>3</td>\n",
       "      <td>[Password Policies: Organizations may consider weighing the risk of storing credentials in web browsers. If web browser credential disclosure is a significant concern, technical controls, policy, and user training may be used to prevent storage of credentials in web browsers.]</td>\n",
       "    </tr>\n",
       "    <tr>\n",
       "      <th>T1487</th>\n",
       "      <td>3</td>\n",
       "      <td>[Data Backup: Consider implementing IT disaster recovery plans that contain procedures for taking regular data backups that can be used to restore organizational data. Ensure backups are stored off system and is protected from common methods adversaries may use to gain access and destroy the backups to prevent recovery.]</td>\n",
       "    </tr>\n",
       "    <tr>\n",
       "      <th>T1095</th>\n",
       "      <td>3</td>\n",
       "      <td>[Filter Network Traffic: Filter network traffic to prevent use of protocols across the network boundary that are unnecessary., Network Intrusion Prevention: Network intrusion detection and prevention systems that use network signatures to identify traffic for specific adversary malware can be used to mitigate activity at the network level., Network Segmentation: Properly configure firewalls and proxies to limit outgoing traffic to only necessary ports and through proper network gateway systems. Also ensure hosts are only provisioned to communicate over authorized interfaces.]</td>\n",
       "    </tr>\n",
       "    <tr>\n",
       "      <th>T1067</th>\n",
       "      <td>3</td>\n",
       "      <td>[Boot Integrity: Use Trusted Platform Module technology and a secure or trusted boot process to prevent system integrity from being compromised.[3][4], Privileged Account Management: Ensure proper permissions are in place to help prevent adversary access to privileged accounts necessary to install a bootkit.]</td>\n",
       "    </tr>\n",
       "    <tr>\n",
       "      <th>T1008</th>\n",
       "      <td>3</td>\n",
       "      <td>[Network Intrusion Prevention: Network intrusion detection and prevention systems that use network signatures to identify traffic for specific adversary malware can be used to mitigate activity at the network level. Signatures are often for unique indicators within protocols and may be based on the specific protocol used by a particular adversary or tool, and will likely be different across various malware families and versions. Adversaries will likely change tool C2 signatures over time or construct protocols in such a way as to avoid detection by common defensive tools.[1]]</td>\n",
       "    </tr>\n",
       "    <tr>\n",
       "      <th>T1190</th>\n",
       "      <td>3</td>\n",
       "      <td>[Application Isolation and Sandboxing: Application isolation will limit what other processes and system features the exploited target can access., Exploit Protection: Web Application Firewalls may be used to limit exposure of applications to prevent exploit traffic from reaching the application., Network Segmentation: Segment externally facing servers and services from the rest of the network with a DMZ or on separate hosting infrastructure., Privileged Account Management: Use least privilege for service accounts will limit what permissions the exploited process gets on the rest of the system., Update Software: Regularly scan externally facing systems for vulnerabilities and establish procedures to rapidly patch systems when critical vulnerabilities are discovered through scanning and through public disclosure., Vulnerability Scanning: Regularly scan externally facing systems for vulnerabilities and establish procedures to rapidly patch systems when critical vulnerabilities are discovered through scanning and through public disclosure.]</td>\n",
       "    </tr>\n",
       "    <tr>\n",
       "      <th>T1486</th>\n",
       "      <td>3</td>\n",
       "      <td>[Data Backup: Consider implementing IT disaster recovery plans that contain procedures for regularly taking and testing data backups that can be used to restore organizational data. Ensure backups are stored off system and is protected from common methods adversaries may use to gain access and destroy the backups to prevent recovery.]</td>\n",
       "    </tr>\n",
       "    <tr>\n",
       "      <th>T1024</th>\n",
       "      <td>3</td>\n",
       "      <td>[Network Intrusion Prevention: Network intrusion detection and prevention systems that use network signatures to identify traffic for specific adversary malware can be used to mitigate activity at the network level. Since the custom protocol used may not adhere to typical protocol standards, there may be opportunities to signature the traffic on a network level for detection. Signatures are often for unique indicators within protocols and may be based on the specific protocol used by a particular adversary or tool, and will likely be different across various malware families and versions. Adversaries will likely change tool C2 signatures over time or construct protocols in such a way as to avoid detection by common defensive tools.]</td>\n",
       "    </tr>\n",
       "    <tr>\n",
       "      <th>T1040</th>\n",
       "      <td>3</td>\n",
       "      <td>[Encrypt Sensitive Information: Ensure that all wired and/or wireless traffic is encrypted appropriately. Use best practices for authentication protocols, such as Kerberos, and ensure web traffic that may contain credentials is protected by SSL/TLS., Multi-factor Authentication: Use multi-factor authentication wherever possible.]</td>\n",
       "    </tr>\n",
       "    <tr>\n",
       "      <th>T1176</th>\n",
       "      <td>2</td>\n",
       "      <td>[Audit: Ensure extensions that are installed are the intended ones as many malicious extensions will masquerade as legitimate ones., Execution Prevention: Set a browser extension white or black list as appropriate for your security policy.[10], Limit Software Installation: Only install browser extensions from trusted sources that can be verified. Browser extensions for some browsers can be controlled through Group Policy. Change settings to prevent the browser from installing extensions without sufficient permissions., User Training: Close out all browser sessions when finished using them to prevent any potentially malicious extensions from continuing to run.]</td>\n",
       "    </tr>\n",
       "    <tr>\n",
       "      <th>T1199</th>\n",
       "      <td>2</td>\n",
       "      <td>[Network Segmentation: Network segmentation can be used to isolate infrastructure components that do not require broad network access., User Account Control: Properly manage accounts and permissions used by parties in trusted relationships to minimize potential abuse by the party and if the party is compromised by an adversary.]</td>\n",
       "    </tr>\n",
       "    <tr>\n",
       "      <th>T1188</th>\n",
       "      <td>2</td>\n",
       "      <td>[Filter Network Traffic: Traffic to known anonymity networks and C2 infrastructure can be blocked through the use of network black and white lists. It should be noted that this kind of blocking may be circumvented by other techniques like Domain Fronting.]</td>\n",
       "    </tr>\n",
       "    <tr>\n",
       "      <th>T1213</th>\n",
       "      <td>2</td>\n",
       "      <td>[Audit: Consider periodic review of accounts and privileges for critical and sensitive repositories., User Account Management: Enforce the principle of least-privilege. Consider implementing access control mechanisms that include both authentication and authorization., User Training: Develop and publish policies that define acceptable information to be stored in repositories.]</td>\n",
       "    </tr>\n",
       "    <tr>\n",
       "      <th>T1485</th>\n",
       "      <td>2</td>\n",
       "      <td>[Data Backup: Consider implementing IT disaster recovery plans that contain procedures for taking regular data backups that can be used to restore organizational data. Ensure backups are stored off system and is protected from common methods adversaries may use to gain access and destroy the backups to prevent recovery.]</td>\n",
       "    </tr>\n",
       "    <tr>\n",
       "      <th>T1492</th>\n",
       "      <td>2</td>\n",
       "      <td>[Encrypt Sensitive Information: Consider encrypting important information to reduce an adversaries ability to perform tailored data modifications., Remote Data Storage: Consider implementing IT disaster recovery plans that contain procedures for taking regular data backups that can be used to restore organizational data. Ensure backups are stored off system and is protected from common methods adversaries may use to gain access and manipulate backups.[3], Restrict File and Directory Permissions: Ensure least privilege principles are applied to important information resources to reduce exposure to data manipulation risk.]</td>\n",
       "    </tr>\n",
       "    <tr>\n",
       "      <th>T1210</th>\n",
       "      <td>2</td>\n",
       "      <td>[Application Isolation and Sandboxing: Make it difficult for adversaries to advance their operation through exploitation of undiscovered or unpatched vulnerabilities by using sandboxing. Other types of virtualization and application microsegmentation may also mitigate the impact of some types of exploitation. Risks of additional exploits and weaknesses in these systems may still exist.[7], Disable or Remove Feature or Program: Minimize available services to only those that are necessary., Exploit Protection: Security applications that look for behavior used during exploitation such as Windows Defender Exploit Guard (WDEG) and the Enhanced Mitigation Experience Toolkit (EMET) can be used to mitigate some exploitation behavior. Control flow integrity checking is another way to potentially identify and stop a software exploit from occurring. Many of these protections depend on the architecture and target application binary for compatibility and may not work for all software or services targeted.[5][6], Network Segmentation: Segment networks and systems appropriately to reduce access to critical systems and services to controlled methods., Privileged Account Management: Minimize permissions and access for service accounts to limit impact of exploitation., Threat Intelligence Program: Develop a robust cyber threat intelligence capability to determine what types and levels of threat may use software exploits and 0-days against a particular organization., Update Software: Update software regularly by employing patch management for internal enterprise endpoints and servers., Vulnerability Scanning: Regularly scan the internal network for available services to identify new and potentially vulnerable services.]</td>\n",
       "    </tr>\n",
       "    <tr>\n",
       "      <th>T1480</th>\n",
       "      <td>2</td>\n",
       "      <td>[Do Not Mitigate: Execution Guardrails likely should not be mitigated with preventative controls because it may protect unintended targets from being compromised. If targeted, efforts should be focused on preventing adversary tools from running earlier in the chain of activity and on identifying subsequent malicious behavior if compromised.]</td>\n",
       "    </tr>\n",
       "    <tr>\n",
       "      <th>T1001</th>\n",
       "      <td>2</td>\n",
       "      <td>[Network Intrusion Prevention: Network intrusion detection and prevention systems that use network signatures to identify traffic for specific adversary malware can be used to mitigate some obfuscation activity at the network level.]</td>\n",
       "    </tr>\n",
       "    <tr>\n",
       "      <th>T1195</th>\n",
       "      <td>2</td>\n",
       "      <td>[Update Software: A patch management process should be implemented to check unused dependencies, unmaintained and/or previously vulnerable dependencies, unnecessary features, components, files, and documentation., Vulnerability Scanning: Continuous monitoring of vulnerability sources and the use of automatic and manual code review tools should also be implemented as well.]</td>\n",
       "    </tr>\n",
       "    <tr>\n",
       "      <th>T1104</th>\n",
       "      <td>2</td>\n",
       "      <td>[Network Intrusion Prevention: Network intrusion detection and prevention systems that use network signatures to identify traffic for specific adversary malware can be used to mitigate activity at the network level.]</td>\n",
       "    </tr>\n",
       "    <tr>\n",
       "      <th>T1072</th>\n",
       "      <td>1</td>\n",
       "      <td>[Active Directory Configuration: Ensure proper system and access isolation for critical network systems through use of group policy., Multi-factor Authentication: Ensure proper system and access isolation for critical network systems through use of multi-factor authentication., Network Segmentation: Ensure proper system isolation for critical network systems through use of firewalls., Password Policies: Verify that account credentials that may be used to access deployment systems are unique and not used throughout the enterprise network., Privileged Account Management: Grant access to application deployment systems only to a limited number of authorized administrators., Remote Data Storage: If the application deployment system can be configured to deploy only signed binaries, then ensure that the trusted signing certificates are not co-located with the application deployment system and are instead located on a system that cannot be accessed remotely or to which remote access is tightly controlled., Update Software: Patch deployment systems regularly to prevent potential remote access through Exploitation for Privilege Escalation., User Account Management: Ensure that any accounts used by third-party providers to access these systems are traceable to the third-party and are not used throughout the network or used by other third-party providers in the same environment. Ensure there are regular reviews of accounts provisioned to these systems to verify continued business need, and ensure there is governance to trace de-provisioning of access that is no longer required. Ensure proper system and access isolation for critical network systems through use of account privilege separation., User Training: Have a strict approval policy for use of deployment systems.]</td>\n",
       "    </tr>\n",
       "    <tr>\n",
       "      <th>T1017</th>\n",
       "      <td>1</td>\n",
       "      <td>[Code Signing: If the application deployment system can be configured to deploy only signed binaries, then ensure that the trusted signing certificates are not co-located with the application deployment system and are instead located on a system that cannot be accessed remotely or to which remote access is tightly controlled., Multi-factor Authentication: Use multi-factor authentication for accounts used with application deployment software., Network Segmentation: Ensure proper system and access isolation for critical network systems through use of firewalls, account privilege separation, group policy, and multi-factor authentication., Privileged Account Management: Grant access to application deployment systems only to a limited number of authorized administrators. Verify that account credentials that may be used to access deployment systems are unique and not used throughout the enterprise network., Update Software: Patch deployment systems regularly to prevent potential remote access through Exploitation for Privilege Escalation.]</td>\n",
       "    </tr>\n",
       "  </tbody>\n",
       "</table>\n",
       "</div>"
      ],
      "text/plain": [
       "      count  \\\n",
       "T1119     7   \n",
       "T1021     6   \n",
       "T1048     6   \n",
       "T1136     5   \n",
       "T1132     5   \n",
       "T1219     5   \n",
       "T1094     4   \n",
       "T1194     4   \n",
       "T1503     3   \n",
       "T1487     3   \n",
       "T1095     3   \n",
       "T1067     3   \n",
       "T1008     3   \n",
       "T1190     3   \n",
       "T1486     3   \n",
       "T1024     3   \n",
       "T1040     3   \n",
       "T1176     2   \n",
       "T1199     2   \n",
       "T1188     2   \n",
       "T1213     2   \n",
       "T1485     2   \n",
       "T1492     2   \n",
       "T1210     2   \n",
       "T1480     2   \n",
       "T1001     2   \n",
       "T1195     2   \n",
       "T1104     2   \n",
       "T1072     1   \n",
       "T1017     1   \n",
       "\n",
       "                                                                                                                                                                                                                                                                                                                                                                                                                                                                                                                                                                                                                                                                                                                                                                                                                                                                                                                                                                                                                                                                                                                                                                                                                                                                                                                                                                                                                                                                                                                                                                                                                                                                                                                                                                                                                                                       mitigation  \n",
       "T1119                                                                                                                                                                                                                                                                                                                                                                                                                                                                                                                                                                                                                                                                                                                                                                                                                                                                                                                                                                                                                                       [Encrypt Sensitive Information: Encryption and off-system storage of sensitive information may be one way to mitigate collection of files, but may not stop an adversary from acquiring the information if an intrusion persists over a long period of time and the adversary is able to discover and access the data through other means. Strong passwords should be used on certain encrypted documents that use them to prevent offline cracking through Brute Force techniques., Remote Data Storage: Encryption and off-system storage of sensitive information may be one way to mitigate collection of files, but may not stop an adversary from acquiring the information if an intrusion persists over a long period of time and the adversary is able to discover and access the data through other means.]  \n",
       "T1021                                                                                                                                                                                                                                                                                                                                                                                                                                                                                                                                                                                                                                                                                                                                                                                                                                                                                                                                                                                                                                                                                                                                                                                                                                                                                                                                                                                                                                                                                                                            [Multi-factor Authentication: Use multi-factor authentication on remote service logons where possible., User Account Management: Limit the accounts that may use remote services. Limit the permissions for accounts that are at higher risk of compromise; for example, configure SSH so users can only run specific programs.]  \n",
       "T1048                                                                                                                                                                                                                                                                                                                                                                                                                                                                                                                                                                                                                                                                                                                                                                                                                                                                                                                                                                                                                                                                                                                                                                                                              [Filter Network Traffic: Enforce proxies and use dedicated servers for services such as DNS and only allow those systems to communicate over respective ports/protocols, instead of all systems within a network., Network Intrusion Prevention: Network intrusion detection and prevention systems that use network signatures to identify traffic for specific adversary command and control infrastructure and malware can be used to mitigate activity at the network level., Network Segmentation: Follow best practices for network firewall configurations to allow only necessary ports and traffic to enter and exit the network.[2]]  \n",
       "T1136                                                                                                                                                                                                                                                                                                                                                                                                                                                                                                                                                                                                                                                                                                                                                                                                                                                                                                                                                                                                                                                                                                                                                                                                                                                                                    [Multi-factor Authentication: Use multi-factor authentication for user and privileged accounts., Network Segmentation: Configure access controls and firewalls to limit access to domain controllers and systems used to create and manage accounts., Operating System Configuration: Protect domain controllers by ensuring proper security configuration for critical servers., Privileged Account Management: Do not allow domain administrator accounts to be used for day-to-day operations that may expose them to potential adversaries on unprivileged systems.]  \n",
       "T1132                                                                                                                                                                                                                                                                                                                                                                                                                                                                                                                                                                                                                                                                                                                                                                                                                                                                                                                                                                                                                                                                                                                                                                                                                                            [Network Intrusion Prevention: Network intrusion detection and prevention systems that use network signatures to identify traffic for specific adversary malware can be used to mitigate activity at the network level. Signatures are often for unique indicators within protocols and may be based on the specific obfuscation technique used by a particular adversary or tool, and will likely be different across various malware families and versions. Adversaries will likely change tool C2 signatures over time or construct protocols in such a way as to avoid detection by common defensive tools.]  \n",
       "T1219                                                                                                                                                                                                                                                                                                                                                                                                                                                                                                                                                                                                                                                                                                                                                                                                                                                                                                                                                                                                                                                                                                                                                                                                                                                                                                                                                             [Execution Prevention: Use application whitelisting to mitigate installation and use of unapproved software that can be used for remote access., Filter Network Traffic: Properly configure firewalls, application firewalls, and proxies to limit outgoing traffic to sites and services used by remote access tools., Network Intrusion Prevention: Network intrusion detection and prevention systems that use network signatures may be able to prevent traffic to remote access services.]  \n",
       "T1094                                                                                                                                                                                                                                                                                                                                                                                                                                                                                                                                                                                                                                                                                                                                                                                                                                                                                                       [Filter Network Traffic: Filter network traffic to look for unusual or non-standard protocols., Network Intrusion Prevention: Network intrusion detection and prevention systems that use network signatures to identify traffic for specific adversary malware can be used to mitigate activity at the network level. Signatures are often for unique indicators within protocols and may be based on the specific protocol used by a particular adversary or tool, and will likely be different across various malware families and versions. Adversaries will likely change tool C2 signatures over time or construct protocols in such a way as to avoid detection by common defensive tools.[1], Network Segmentation: Properly configure firewalls and proxies to limit outgoing traffic to only necessary ports and through proper network gateway systems. Also ensure hosts are only provisioned to communicate over authorized interfaces.]  \n",
       "T1194                                                                                                                                                                                                                                                                                                                                                                                                                                                                                                                                                                                                                                                                                                                                                                                                                                                                                                                                                                                                                                                                                                                                                                                                                                                                                                                                        [Antivirus/Antimalware: Anti-virus can also automatically quarantine suspicious files., Restrict Web-Based Content: Determine if certain social media sites, personal webmail services, or other service that can be used for spearphishing is necessary for business operations and consider blocking access if activity cannot be monitored well or if it poses a significant risk., User Training: Users can be trained to identify social engineering techniques and spearphishing emails with malicious links.]  \n",
       "T1503                                                                                                                                                                                                                                                                                                                                                                                                                                                                                                                                                                                                                                                                                                                                                                                                                                                                                                                                                                                                                                                                                                                                                                                                                                                                                                                                                                                                                                                                                                                                                                       [Password Policies: Organizations may consider weighing the risk of storing credentials in web browsers. If web browser credential disclosure is a significant concern, technical controls, policy, and user training may be used to prevent storage of credentials in web browsers.]  \n",
       "T1487                                                                                                                                                                                                                                                                                                                                                                                                                                                                                                                                                                                                                                                                                                                                                                                                                                                                                                                                                                                                                                                                                                                                                                                                                                                                                                                                                                                                                                                                                                                          [Data Backup: Consider implementing IT disaster recovery plans that contain procedures for taking regular data backups that can be used to restore organizational data. Ensure backups are stored off system and is protected from common methods adversaries may use to gain access and destroy the backups to prevent recovery.]  \n",
       "T1095                                                                                                                                                                                                                                                                                                                                                                                                                                                                                                                                                                                                                                                                                                                                                                                                                                                                                                                                                                                                                                                                                                                                                                                                                                                      [Filter Network Traffic: Filter network traffic to prevent use of protocols across the network boundary that are unnecessary., Network Intrusion Prevention: Network intrusion detection and prevention systems that use network signatures to identify traffic for specific adversary malware can be used to mitigate activity at the network level., Network Segmentation: Properly configure firewalls and proxies to limit outgoing traffic to only necessary ports and through proper network gateway systems. Also ensure hosts are only provisioned to communicate over authorized interfaces.]  \n",
       "T1067                                                                                                                                                                                                                                                                                                                                                                                                                                                                                                                                                                                                                                                                                                                                                                                                                                                                                                                                                                                                                                                                                                                                                                                                                                                                                                                                                                                                                                                                                                                                      [Boot Integrity: Use Trusted Platform Module technology and a secure or trusted boot process to prevent system integrity from being compromised.[3][4], Privileged Account Management: Ensure proper permissions are in place to help prevent adversary access to privileged accounts necessary to install a bootkit.]  \n",
       "T1008                                                                                                                                                                                                                                                                                                                                                                                                                                                                                                                                                                                                                                                                                                                                                                                                                                                                                                                                                                                                                                                                                                                                                                                                                                                      [Network Intrusion Prevention: Network intrusion detection and prevention systems that use network signatures to identify traffic for specific adversary malware can be used to mitigate activity at the network level. Signatures are often for unique indicators within protocols and may be based on the specific protocol used by a particular adversary or tool, and will likely be different across various malware families and versions. Adversaries will likely change tool C2 signatures over time or construct protocols in such a way as to avoid detection by common defensive tools.[1]]  \n",
       "T1190                                                                                                                                                                                                                                                                                                                                                                                                                                                                                                                                                                                                                                                                                                                                                                [Application Isolation and Sandboxing: Application isolation will limit what other processes and system features the exploited target can access., Exploit Protection: Web Application Firewalls may be used to limit exposure of applications to prevent exploit traffic from reaching the application., Network Segmentation: Segment externally facing servers and services from the rest of the network with a DMZ or on separate hosting infrastructure., Privileged Account Management: Use least privilege for service accounts will limit what permissions the exploited process gets on the rest of the system., Update Software: Regularly scan externally facing systems for vulnerabilities and establish procedures to rapidly patch systems when critical vulnerabilities are discovered through scanning and through public disclosure., Vulnerability Scanning: Regularly scan externally facing systems for vulnerabilities and establish procedures to rapidly patch systems when critical vulnerabilities are discovered through scanning and through public disclosure.]  \n",
       "T1486                                                                                                                                                                                                                                                                                                                                                                                                                                                                                                                                                                                                                                                                                                                                                                                                                                                                                                                                                                                                                                                                                                                                                                                                                                                                                                                                                                                                                                                                                                            [Data Backup: Consider implementing IT disaster recovery plans that contain procedures for regularly taking and testing data backups that can be used to restore organizational data. Ensure backups are stored off system and is protected from common methods adversaries may use to gain access and destroy the backups to prevent recovery.]  \n",
       "T1024                                                                                                                                                                                                                                                                                                                                                                                                                                                                                                                                                                                                                                                                                                                                                                                                                                                                                                                                                                                                                                                                                      [Network Intrusion Prevention: Network intrusion detection and prevention systems that use network signatures to identify traffic for specific adversary malware can be used to mitigate activity at the network level. Since the custom protocol used may not adhere to typical protocol standards, there may be opportunities to signature the traffic on a network level for detection. Signatures are often for unique indicators within protocols and may be based on the specific protocol used by a particular adversary or tool, and will likely be different across various malware families and versions. Adversaries will likely change tool C2 signatures over time or construct protocols in such a way as to avoid detection by common defensive tools.]  \n",
       "T1040                                                                                                                                                                                                                                                                                                                                                                                                                                                                                                                                                                                                                                                                                                                                                                                                                                                                                                                                                                                                                                                                                                                                                                                                                                                                                                                                                                                                                                                                                                                 [Encrypt Sensitive Information: Ensure that all wired and/or wireless traffic is encrypted appropriately. Use best practices for authentication protocols, such as Kerberos, and ensure web traffic that may contain credentials is protected by SSL/TLS., Multi-factor Authentication: Use multi-factor authentication wherever possible.]  \n",
       "T1176                                                                                                                                                                                                                                                                                                                                                                                                                                                                                                                                                                                                                                                                                                                                                                                                                                                                                                                                                                                                                                                                                                                                                                [Audit: Ensure extensions that are installed are the intended ones as many malicious extensions will masquerade as legitimate ones., Execution Prevention: Set a browser extension white or black list as appropriate for your security policy.[10], Limit Software Installation: Only install browser extensions from trusted sources that can be verified. Browser extensions for some browsers can be controlled through Group Policy. Change settings to prevent the browser from installing extensions without sufficient permissions., User Training: Close out all browser sessions when finished using them to prevent any potentially malicious extensions from continuing to run.]  \n",
       "T1199                                                                                                                                                                                                                                                                                                                                                                                                                                                                                                                                                                                                                                                                                                                                                                                                                                                                                                                                                                                                                                                                                                                                                                                                                                                                                                                                                                                                                                                                                                                  [Network Segmentation: Network segmentation can be used to isolate infrastructure components that do not require broad network access., User Account Control: Properly manage accounts and permissions used by parties in trusted relationships to minimize potential abuse by the party and if the party is compromised by an adversary.]  \n",
       "T1188                                                                                                                                                                                                                                                                                                                                                                                                                                                                                                                                                                                                                                                                                                                                                                                                                                                                                                                                                                                                                                                                                                                                                                                                                                                                                                                                                                                                                                                                                                                                                                                            [Filter Network Traffic: Traffic to known anonymity networks and C2 infrastructure can be blocked through the use of network black and white lists. It should be noted that this kind of blocking may be circumvented by other techniques like Domain Fronting.]  \n",
       "T1213                                                                                                                                                                                                                                                                                                                                                                                                                                                                                                                                                                                                                                                                                                                                                                                                                                                                                                                                                                                                                                                                                                                                                                                                                                                                                                                                                                                                                                                                 [Audit: Consider periodic review of accounts and privileges for critical and sensitive repositories., User Account Management: Enforce the principle of least-privilege. Consider implementing access control mechanisms that include both authentication and authorization., User Training: Develop and publish policies that define acceptable information to be stored in repositories.]  \n",
       "T1485                                                                                                                                                                                                                                                                                                                                                                                                                                                                                                                                                                                                                                                                                                                                                                                                                                                                                                                                                                                                                                                                                                                                                                                                                                                                                                                                                                                                                                                                                                                          [Data Backup: Consider implementing IT disaster recovery plans that contain procedures for taking regular data backups that can be used to restore organizational data. Ensure backups are stored off system and is protected from common methods adversaries may use to gain access and destroy the backups to prevent recovery.]  \n",
       "T1492                                                                                                                                                                                                                                                                                                                                                                                                                                                                                                                                                                                                                                                                                                                                                                                                                                                                                                                                                                                                                                                                                                                                                                                                        [Encrypt Sensitive Information: Consider encrypting important information to reduce an adversaries ability to perform tailored data modifications., Remote Data Storage: Consider implementing IT disaster recovery plans that contain procedures for taking regular data backups that can be used to restore organizational data. Ensure backups are stored off system and is protected from common methods adversaries may use to gain access and manipulate backups.[3], Restrict File and Directory Permissions: Ensure least privilege principles are applied to important information resources to reduce exposure to data manipulation risk.]  \n",
       "T1210                                                          [Application Isolation and Sandboxing: Make it difficult for adversaries to advance their operation through exploitation of undiscovered or unpatched vulnerabilities by using sandboxing. Other types of virtualization and application microsegmentation may also mitigate the impact of some types of exploitation. Risks of additional exploits and weaknesses in these systems may still exist.[7], Disable or Remove Feature or Program: Minimize available services to only those that are necessary., Exploit Protection: Security applications that look for behavior used during exploitation such as Windows Defender Exploit Guard (WDEG) and the Enhanced Mitigation Experience Toolkit (EMET) can be used to mitigate some exploitation behavior. Control flow integrity checking is another way to potentially identify and stop a software exploit from occurring. Many of these protections depend on the architecture and target application binary for compatibility and may not work for all software or services targeted.[5][6], Network Segmentation: Segment networks and systems appropriately to reduce access to critical systems and services to controlled methods., Privileged Account Management: Minimize permissions and access for service accounts to limit impact of exploitation., Threat Intelligence Program: Develop a robust cyber threat intelligence capability to determine what types and levels of threat may use software exploits and 0-days against a particular organization., Update Software: Update software regularly by employing patch management for internal enterprise endpoints and servers., Vulnerability Scanning: Regularly scan the internal network for available services to identify new and potentially vulnerable services.]  \n",
       "T1480                                                                                                                                                                                                                                                                                                                                                                                                                                                                                                                                                                                                                                                                                                                                                                                                                                                                                                                                                                                                                                                                                                                                                                                                                                                                                                                                                                                                                                                                                                     [Do Not Mitigate: Execution Guardrails likely should not be mitigated with preventative controls because it may protect unintended targets from being compromised. If targeted, efforts should be focused on preventing adversary tools from running earlier in the chain of activity and on identifying subsequent malicious behavior if compromised.]  \n",
       "T1001                                                                                                                                                                                                                                                                                                                                                                                                                                                                                                                                                                                                                                                                                                                                                                                                                                                                                                                                                                                                                                                                                                                                                                                                                                                                                                                                                                                                                                                                                                                                                                                                                   [Network Intrusion Prevention: Network intrusion detection and prevention systems that use network signatures to identify traffic for specific adversary malware can be used to mitigate some obfuscation activity at the network level.]  \n",
       "T1195                                                                                                                                                                                                                                                                                                                                                                                                                                                                                                                                                                                                                                                                                                                                                                                                                                                                                                                                                                                                                                                                                                                                                                                                                                                                                                                                                                                                                                                                     [Update Software: A patch management process should be implemented to check unused dependencies, unmaintained and/or previously vulnerable dependencies, unnecessary features, components, files, and documentation., Vulnerability Scanning: Continuous monitoring of vulnerability sources and the use of automatic and manual code review tools should also be implemented as well.]  \n",
       "T1104                                                                                                                                                                                                                                                                                                                                                                                                                                                                                                                                                                                                                                                                                                                                                                                                                                                                                                                                                                                                                                                                                                                                                                                                                                                                                                                                                                                                                                                                                                                                                                                                                                    [Network Intrusion Prevention: Network intrusion detection and prevention systems that use network signatures to identify traffic for specific adversary malware can be used to mitigate activity at the network level.]  \n",
       "T1072  [Active Directory Configuration: Ensure proper system and access isolation for critical network systems through use of group policy., Multi-factor Authentication: Ensure proper system and access isolation for critical network systems through use of multi-factor authentication., Network Segmentation: Ensure proper system isolation for critical network systems through use of firewalls., Password Policies: Verify that account credentials that may be used to access deployment systems are unique and not used throughout the enterprise network., Privileged Account Management: Grant access to application deployment systems only to a limited number of authorized administrators., Remote Data Storage: If the application deployment system can be configured to deploy only signed binaries, then ensure that the trusted signing certificates are not co-located with the application deployment system and are instead located on a system that cannot be accessed remotely or to which remote access is tightly controlled., Update Software: Patch deployment systems regularly to prevent potential remote access through Exploitation for Privilege Escalation., User Account Management: Ensure that any accounts used by third-party providers to access these systems are traceable to the third-party and are not used throughout the network or used by other third-party providers in the same environment. Ensure there are regular reviews of accounts provisioned to these systems to verify continued business need, and ensure there is governance to trace de-provisioning of access that is no longer required. Ensure proper system and access isolation for critical network systems through use of account privilege separation., User Training: Have a strict approval policy for use of deployment systems.]  \n",
       "T1017                                                                                                                                                                                                                                                                                                                                                                                                                                                                                                                                                                                                                                                                                                                                                                   [Code Signing: If the application deployment system can be configured to deploy only signed binaries, then ensure that the trusted signing certificates are not co-located with the application deployment system and are instead located on a system that cannot be accessed remotely or to which remote access is tightly controlled., Multi-factor Authentication: Use multi-factor authentication for accounts used with application deployment software., Network Segmentation: Ensure proper system and access isolation for critical network systems through use of firewalls, account privilege separation, group policy, and multi-factor authentication., Privileged Account Management: Grant access to application deployment systems only to a limited number of authorized administrators. Verify that account credentials that may be used to access deployment systems are unique and not used throughout the enterprise network., Update Software: Patch deployment systems regularly to prevent potential remote access through Exploitation for Privilege Escalation.]  "
      ]
     },
     "execution_count": 31,
     "metadata": {},
     "output_type": "execute_result"
    }
   ],
   "source": []
  },
  {
   "cell_type": "code",
   "execution_count": 34,
   "metadata": {},
   "outputs": [
    {
     "data": {
      "text/plain": [
       "<matplotlib.axes._subplots.AxesSubplot at 0x208e4afa828>"
      ]
     },
     "execution_count": 34,
     "metadata": {},
     "output_type": "execute_result"
    },
    {
     "data": {
      "image/png": "[encoded data removed]",
      "text/plain": [
       "<Figure size 1440x1080 with 1 Axes>"
      ]
     },
     "metadata": {
      "needs_background": "light"
     },
     "output_type": "display_data"
    }
   ],
   "source": [
    "df.plot(kind='bar',figsize=(20,15))"
   ]
  }
 ],
 "metadata": {
  "kernelspec": {
   "display_name": "Python 3",
   "language": "python",
   "name": "python3"
  },
  "language_info": {
   "codemirror_mode": {
    "name": "ipython",
    "version": 3
   },
   "file_extension": ".py",
   "mimetype": "text/x-python",
   "name": "python",
   "nbconvert_exporter": "python",
   "pygments_lexer": "ipython3",
   "version": "3.7.3"
  }
 },
 "nbformat": 4,
 "nbformat_minor": 2
}
